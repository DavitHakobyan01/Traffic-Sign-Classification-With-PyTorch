{
 "cells": [
  {
   "cell_type": "code",
   "execution_count": 15,
   "id": "6d75db40",
   "metadata": {},
   "outputs": [],
   "source": [
    "from torchvision import datasets, transforms\n",
    "from PIL import Image\n",
    "import numpy as np\n",
    "from torch.utils.data import DataLoader\n",
    "import matplotlib.pyplot as plt\n",
    "import torch\n",
    "from torch import nn\n",
    "from torch.nn import functional as F"
   ]
  },
  {
   "cell_type": "code",
   "execution_count": 16,
   "id": "9bdec745",
   "metadata": {},
   "outputs": [],
   "source": [
    "device = torch.device(\"cuda:0\" if torch.cuda.is_available() else \"cpu\")"
   ]
  },
  {
   "cell_type": "code",
   "execution_count": 17,
   "id": "9989c592",
   "metadata": {},
   "outputs": [],
   "source": [
    "data_transform = transforms.Compose([\n",
    "    transforms.Resize([50, 50]),\n",
    "    transforms.ToTensor(),\n",
    "    transforms.Normalize((0.5,), (0.5,))\n",
    "])"
   ]
  },
  {
   "cell_type": "code",
   "execution_count": 18,
   "id": "8a03df69",
   "metadata": {},
   "outputs": [],
   "source": [
    "dataset = datasets.ImageFolder(r'C:\\Users\\Asus\\Desktop\\datasets\\GTSRB\\GTSRB\\Final_Training\\Images', transform=data_transform)\n",
    "# val_dataset = datasets.ImageFolder(r'C:\\Users\\Asus\\Desktop\\datasets\\GTSRB\\GTSRB\\Final_Test\\Images', transform=test_transform)"
   ]
  },
  {
   "cell_type": "code",
   "execution_count": 19,
   "id": "5314c70a",
   "metadata": {},
   "outputs": [
    {
     "data": {
      "text/plain": [
       "torch.Tensor"
      ]
     },
     "execution_count": 19,
     "metadata": {},
     "output_type": "execute_result"
    }
   ],
   "source": [
    "type(dataset[600][0])"
   ]
  },
  {
   "cell_type": "code",
   "execution_count": 26,
   "id": "b79b1f3a",
   "metadata": {},
   "outputs": [
    {
     "data": {
      "text/plain": [
       "torch.Size([3, 50, 50])"
      ]
     },
     "execution_count": 26,
     "metadata": {},
     "output_type": "execute_result"
    }
   ],
   "source": [
    "dataset[0][0].shape"
   ]
  },
  {
   "cell_type": "code",
   "execution_count": 27,
   "id": "6651b014",
   "metadata": {},
   "outputs": [
    {
     "data": {
      "text/plain": [
       "31367"
      ]
     },
     "execution_count": 27,
     "metadata": {},
     "output_type": "execute_result"
    }
   ],
   "source": [
    "train_size = int(len(dataset) * 0.8)\n",
    "train_size"
   ]
  },
  {
   "cell_type": "code",
   "execution_count": 28,
   "id": "05f3c7a0",
   "metadata": {},
   "outputs": [
    {
     "data": {
      "text/plain": [
       "31367"
      ]
     },
     "execution_count": 28,
     "metadata": {},
     "output_type": "execute_result"
    }
   ],
   "source": [
    "train_dataset, val_dataset = torch.utils.data.random_split(dataset, [train_size, len(dataset)-train_size])\n",
    "len(train_dataset)"
   ]
  },
  {
   "cell_type": "code",
   "execution_count": 29,
   "id": "ad600a10",
   "metadata": {},
   "outputs": [],
   "source": [
    "training_loader = DataLoader(train_dataset, batch_size=64, shuffle=True)\n",
    "validation_loader = DataLoader(val_dataset, batch_size=64, shuffle=True)"
   ]
  },
  {
   "cell_type": "code",
   "execution_count": 30,
   "id": "43f60090",
   "metadata": {},
   "outputs": [
    {
     "data": {
      "text/plain": [
       "14"
      ]
     },
     "execution_count": 30,
     "metadata": {},
     "output_type": "execute_result"
    }
   ],
   "source": [
    "dataset[23000][1]"
   ]
  },
  {
   "cell_type": "code",
   "execution_count": 31,
   "id": "c7fb1966",
   "metadata": {},
   "outputs": [
    {
     "name": "stderr",
     "output_type": "stream",
     "text": [
      "Clipping input data to the valid range for imshow with RGB data ([0..1] for floats or [0..255] for integers).\n"
     ]
    },
    {
     "data": {
      "text/plain": [
       "<matplotlib.image.AxesImage at 0x234b1e5ec10>"
      ]
     },
     "execution_count": 31,
     "metadata": {},
     "output_type": "execute_result"
    },
    {
     "data": {
      "image/png": "[encoded data removed]",
      "text/plain": [
       "<Figure size 432x288 with 1 Axes>"
      ]
     },
     "metadata": {
      "needs_background": "light"
     },
     "output_type": "display_data"
    }
   ],
   "source": [
    "plt.imshow(dataset[23000][0].permute(1, 2, 0), cmap=\"gray\")"
   ]
  },
  {
   "cell_type": "markdown",
   "id": "489f0d3b",
   "metadata": {},
   "source": [
    "# Could not find data of sign names, so had to write manually"
   ]
  },
  {
   "cell_type": "code",
   "execution_count": 32,
   "id": "a5ea2d18",
   "metadata": {},
   "outputs": [],
   "source": [
    "class_names = {\n",
    "    0: 'speed limit 20 km/h',\n",
    "    1: 'speed limit 30 km/h',\n",
    "    2: 'speed limit 50 km/h',\n",
    "    3: 'Speed limit (60km/h)',\n",
    "    4: 'Speed limit (70km/h)',\n",
    "    5: 'Speed limit (80km/h)',\n",
    "    6: 'End of speed limit (80km/h)',\n",
    "    7: 'Speed limit (100km/h)',\n",
    "    8: 'Speed limit (120km/h)',\n",
    "    9: 'No passing',\n",
    "    10: 'No passing for vechiles over 3.5 metric tons',\n",
    "    11: 'Right-of-way at the next intersection',\n",
    "    12: 'Priority road',\n",
    "    13: 'Yield',\n",
    "    14: 'Stop',\n",
    "    15: 'No vechiles',\n",
    "    16: 'Vechiles over 3.5 metric tons prohibited',\n",
    "    17: 'No entry',\n",
    "    18: 'General caution',\n",
    "    19: 'Dangerous curve to the left',\n",
    "    20: 'Dangerous curve to the right',\n",
    "    21: 'Double curve',\n",
    "    22: 'Bumpy road',\n",
    "    23: 'Slippery road',\n",
    "    24: 'Road narrows on the right',\n",
    "    25: 'Road work',\n",
    "    26: 'Traffic signals',\n",
    "    27: 'Pedestrians',\n",
    "    28: 'Children crossing',\n",
    "    29: 'Bicycles crossing',\n",
    "    30: 'Beware of ice/snow',\n",
    "    31: 'Wild animals crossing',\n",
    "    32: 'End of all speed and passing limits',\n",
    "    33: 'Turn right ahead',\n",
    "    34: 'Turn left ahead',\n",
    "    35: 'Ahead only',\n",
    "    36: 'Go straight or right',\n",
    "    37: 'Go straight or left',\n",
    "    38: 'Keep right',\n",
    "    39: 'Keep left',\n",
    "    40: 'Roundabout mandatory',\n",
    "    41: 'End of no passing',\n",
    "    42: 'End of no passing by vechiles over 3.5 metric tons'\n",
    "    \n",
    "}"
   ]
  },
  {
   "cell_type": "code",
   "execution_count": 33,
   "id": "0761f088",
   "metadata": {},
   "outputs": [
    {
     "name": "stderr",
     "output_type": "stream",
     "text": [
      "Clipping input data to the valid range for imshow with RGB data ([0..1] for floats or [0..255] for integers).\n"
     ]
    },
    {
     "data": {
      "text/plain": [
       "Text(0.5, 1.0, 'End of no passing')"
      ]
     },
     "execution_count": 33,
     "metadata": {},
     "output_type": "execute_result"
    },
    {
     "data": {
      "image/png": "[encoded data removed]",
      "text/plain": [
       "<Figure size 432x288 with 1 Axes>"
      ]
     },
     "metadata": {
      "needs_background": "light"
     },
     "output_type": "display_data"
    }
   ],
   "source": [
    "plt.imshow(val_dataset[2000][0].permute(1, 2, 0), cmap=\"gray\")\n",
    "plt.title(class_names[val_dataset[2000][1]])"
   ]
  },
  {
   "cell_type": "code",
   "execution_count": 34,
   "id": "09189163",
   "metadata": {},
   "outputs": [],
   "source": [
    "training_loader_batch = next(iter(training_loader))"
   ]
  },
  {
   "cell_type": "code",
   "execution_count": 35,
   "id": "bc719fe9",
   "metadata": {},
   "outputs": [
    {
     "data": {
      "text/plain": [
       "tensor([25,  1,  8, 28, 15,  8,  1, 38,  7,  2, 26,  6, 17, 12,  3, 13, 13, 12,\n",
       "        15, 33, 33,  4,  8, 29, 35, 12,  7, 41, 23,  1, 10, 13, 26, 38,  3, 18,\n",
       "         8,  1, 13,  5,  5,  5, 31,  1, 18,  9, 37, 18,  2, 40, 16, 11,  1, 13,\n",
       "         9, 34, 13,  5, 20, 26, 40, 18,  1, 18])"
      ]
     },
     "execution_count": 35,
     "metadata": {},
     "output_type": "execute_result"
    }
   ],
   "source": [
    "images, labels = training_loader_batch\n",
    "labels"
   ]
  },
  {
   "cell_type": "code",
   "execution_count": 39,
   "id": "ff54cc29",
   "metadata": {},
   "outputs": [
    {
     "data": {
      "text/plain": [
       "torch.Size([3, 50, 50])"
      ]
     },
     "execution_count": 39,
     "metadata": {},
     "output_type": "execute_result"
    }
   ],
   "source": [
    "images[0].shape"
   ]
  },
  {
   "cell_type": "code",
   "execution_count": 116,
   "id": "5a6a0215",
   "metadata": {},
   "outputs": [
    {
     "data": {
      "text/plain": [
       "tensor([28,  5,  4, 10, 26, 13,  1, 38, 15, 37, 19, 26, 25, 15, 11, 26, 14, 18,\n",
       "         3,  4, 30, 33, 29,  5, 35, 11, 12, 25,  7, 11, 10, 35, 34,  4,  1, 13,\n",
       "        28,  3,  3, 13, 15, 13, 25, 34,  9, 23, 25,  1, 33,  2, 13, 12, 33, 17,\n",
       "         0, 24,  7, 27,  4,  5, 15, 20, 28,  2])"
      ]
     },
     "execution_count": 116,
     "metadata": {},
     "output_type": "execute_result"
    }
   ],
   "source": [
    "val_loader_batch = next(iter(validation_loader))\n",
    "images, labels = val_loader_batch\n",
    "labels"
   ]
  },
  {
   "cell_type": "code",
   "execution_count": 65,
   "id": "a0683129",
   "metadata": {},
   "outputs": [],
   "source": [
    "from torch import flatten\n",
    "\n",
    "class Model(nn.Module):\n",
    "    def __init__(self):\n",
    "        super(Model, self).__init__()\n",
    "        self.conv1 = nn.Conv2d(in_channels = 3, out_channels = 6, \n",
    "                               kernel_size = 5, stride = 1, padding = 0)\n",
    "        self.conv2 = nn.Conv2d(in_channels = 6, out_channels = 16, \n",
    "                               kernel_size = 5, stride = 1, padding = 0)\n",
    "        self.conv3 = nn.Conv2d(in_channels = 16, out_channels = 25, \n",
    "                               kernel_size = 3, stride = 1, padding = 0)\n",
    "        self.linear1 = nn.Linear(225, 120)\n",
    "        self.linear2 = nn.Linear(120, 80)\n",
    "        self.linear3 = nn.Linear(80, 43)\n",
    "        self.sigmoid = nn.ReLU()\n",
    "        self.avgpool = nn.AvgPool2d(kernel_size=2, stride=2)\n",
    "\n",
    "    def forward(self, x):\n",
    "        x = self.conv1(x)\n",
    "        x = self.sigmoid(x)\n",
    "        x = self.avgpool(x)\n",
    "        x = self.conv2(x)\n",
    "        x = self.sigmoid(x)\n",
    "        x = self.avgpool(x)\n",
    "        x = self.conv3(x)\n",
    "        x = self.sigmoid(x)\n",
    "        x = self.avgpool(x)\n",
    "        x = flatten(x, 1)\n",
    "        x = self.linear1(x)\n",
    "        x = self.sigmoid(x)\n",
    "        x = self.linear2(x)\n",
    "        x = self.sigmoid(x)\n",
    "        x = self.linear3(x)\n",
    "        return x"
   ]
  },
  {
   "cell_type": "code",
   "execution_count": 66,
   "id": "ce4e66ff",
   "metadata": {},
   "outputs": [],
   "source": [
    "model = Model().to(device)"
   ]
  },
  {
   "cell_type": "code",
   "execution_count": 67,
   "id": "e4af6979",
   "metadata": {},
   "outputs": [
    {
     "name": "stdout",
     "output_type": "stream",
     "text": [
      "----------------------------------------------------------------\n",
      "        Layer (type)               Output Shape         Param #\n",
      "================================================================\n",
      "            Conv2d-1            [-1, 6, 46, 46]             456\n",
      "              ReLU-2            [-1, 6, 46, 46]               0\n",
      "         AvgPool2d-3            [-1, 6, 23, 23]               0\n",
      "            Conv2d-4           [-1, 16, 19, 19]           2,416\n",
      "              ReLU-5           [-1, 16, 19, 19]               0\n",
      "         AvgPool2d-6             [-1, 16, 9, 9]               0\n",
      "            Conv2d-7             [-1, 25, 7, 7]           3,625\n",
      "              ReLU-8             [-1, 25, 7, 7]               0\n",
      "         AvgPool2d-9             [-1, 25, 3, 3]               0\n",
      "           Linear-10                  [-1, 120]          27,120\n",
      "             ReLU-11                  [-1, 120]               0\n",
      "           Linear-12                   [-1, 80]           9,680\n",
      "             ReLU-13                   [-1, 80]               0\n",
      "           Linear-14                   [-1, 43]           3,483\n",
      "================================================================\n",
      "Total params: 46,780\n",
      "Trainable params: 46,780\n",
      "Non-trainable params: 0\n",
      "----------------------------------------------------------------\n",
      "Input size (MB): 0.03\n",
      "Forward/backward pass size (MB): 0.34\n",
      "Params size (MB): 0.18\n",
      "Estimated Total Size (MB): 0.55\n",
      "----------------------------------------------------------------\n"
     ]
    }
   ],
   "source": [
    "from torchsummary import summary\n",
    "\n",
    "summary(model, (3, 50, 50))"
   ]
  },
  {
   "cell_type": "code",
   "execution_count": 68,
   "id": "ad29c5f5",
   "metadata": {},
   "outputs": [],
   "source": [
    "import torch.optim as optim\n",
    "\n",
    "criterion = nn.CrossEntropyLoss()\n",
    "optimizer = optim.Adam(model.parameters())"
   ]
  },
  {
   "cell_type": "code",
   "execution_count": 69,
   "id": "abfac87b",
   "metadata": {},
   "outputs": [
    {
     "name": "stdout",
     "output_type": "stream",
     "text": [
      "epoch:  1\n",
      "training loss: 2.1299, training accuracy: 40.6319 \n",
      "validation loss: 0.9348, validation accuracy: 70.5177 \n",
      "epoch:  2\n",
      "training loss: 0.6173, training accuracy: 80.9864 \n",
      "validation loss: 0.4797, validation accuracy: 84.8125 \n",
      "epoch:  3\n",
      "training loss: 0.3604, training accuracy: 89.1797 \n",
      "validation loss: 0.3083, validation accuracy: 90.5254 \n",
      "epoch:  4\n",
      "training loss: 0.2551, training accuracy: 92.3263 \n",
      "validation loss: 0.2245, validation accuracy: 93.8536 \n",
      "epoch:  5\n",
      "training loss: 0.1833, training accuracy: 94.3826 \n",
      "validation loss: 0.2011, validation accuracy: 94.2744 \n",
      "epoch:  6\n",
      "training loss: 0.1460, training accuracy: 95.5845 \n",
      "validation loss: 0.1506, validation accuracy: 96.2127 \n",
      "epoch:  7\n",
      "training loss: 0.1048, training accuracy: 96.9363 \n",
      "validation loss: 0.1362, validation accuracy: 96.5315 \n",
      "epoch:  8\n",
      "training loss: 0.0919, training accuracy: 97.1881 \n",
      "validation loss: 0.1524, validation accuracy: 95.7536 \n",
      "epoch:  9\n",
      "training loss: 0.0766, training accuracy: 97.6376 \n",
      "validation loss: 0.1031, validation accuracy: 97.3476 \n",
      "epoch:  10\n",
      "training loss: 0.0599, training accuracy: 98.1796 \n",
      "validation loss: 0.1079, validation accuracy: 97.2456 \n"
     ]
    }
   ],
   "source": [
    "epochs = 10\n",
    "running_loss_history = []\n",
    "running_corrects_history = []\n",
    "val_running_loss_history = []\n",
    "val_running_corrects_history = []\n",
    "\n",
    "for e in range(epochs):\n",
    "    running_loss = 0.0\n",
    "    running_corrects = 0.0\n",
    "    val_running_loss = 0.0\n",
    "    val_running_corrects = 0.0\n",
    "    \n",
    "    for inputs, labels in training_loader: \n",
    "        inputs = inputs.to(device) #GPU\n",
    "        labels = labels.to(device) #GPU\n",
    "        outputs = model(inputs)\n",
    "        loss = criterion(outputs, labels)\n",
    "    \n",
    "        loss.backward()\n",
    "        optimizer.step()\n",
    "        optimizer.zero_grad()\n",
    "    \n",
    "        _, preds = torch.max(outputs, 1)\n",
    "        running_loss += loss.item()\n",
    "        running_corrects += torch.sum(preds == labels.data)\n",
    "    else: \n",
    "        with torch.no_grad():\n",
    "            for val_inputs, val_labels in validation_loader:\n",
    "                val_inputs = val_inputs.to(device) #GPU\n",
    "                val_labels = val_labels.to(device) #GPU\n",
    "                val_outputs = model(val_inputs)\n",
    "                val_loss = criterion(val_outputs, val_labels)\n",
    "                \n",
    "                _, val_preds = torch.max(val_outputs, 1)\n",
    "                val_running_loss += val_loss.item()\n",
    "                val_running_corrects += torch.sum(val_preds == val_labels.data)\n",
    "          \n",
    "        epoch_loss = running_loss/len(training_loader)\n",
    "        epoch_acc = running_corrects.float()/len(train_dataset)*100\n",
    "        running_loss_history.append(epoch_loss)\n",
    "        running_corrects_history.append(epoch_acc)\n",
    "        \n",
    "        val_epoch_loss = val_running_loss/len(validation_loader)\n",
    "        val_epoch_acc = val_running_corrects.float()/len(val_dataset)*100\n",
    "        val_running_loss_history.append(val_epoch_loss)\n",
    "        val_running_corrects_history.append(val_epoch_acc)\n",
    "    \n",
    "    print('epoch: ', (e+1))\n",
    "    print('training loss: {:.4f}, training accuracy: {:.4f} '.format(epoch_loss, epoch_acc.item()))\n",
    "    print('validation loss: {:.4f}, validation accuracy: {:.4f} '.format(val_epoch_loss, val_epoch_acc.item()))"
   ]
  },
  {
   "cell_type": "code",
   "execution_count": 140,
   "id": "a670ef40",
   "metadata": {},
   "outputs": [
    {
     "data": {
      "text/plain": [
       "Dataset ImageFolder\n",
       "    Number of datapoints: 12630\n",
       "    Root location: C:\\Users\\Asus\\Desktop\\datasets\\GTSRB\\GTSRB\\Final_Test\n",
       "    StandardTransform\n",
       "Transform: Compose(\n",
       "               Resize(size=[50, 50], interpolation=bilinear, max_size=None, antialias=None)\n",
       "               ToTensor()\n",
       "               Normalize(mean=(0.5,), std=(0.5,))\n",
       "           )"
      ]
     },
     "execution_count": 140,
     "metadata": {},
     "output_type": "execute_result"
    }
   ],
   "source": [
    "test_dataset = datasets.ImageFolder(r'C:\\Users\\Asus\\Desktop\\datasets\\GTSRB\\GTSRB\\Final_Test', transform=data_transform)\n",
    "test_dataset"
   ]
  },
  {
   "cell_type": "code",
   "execution_count": 141,
   "id": "d741f4d8",
   "metadata": {},
   "outputs": [],
   "source": [
    "test_loader = DataLoader(test_dataset, batch_size=64, shuffle=True)"
   ]
  },
  {
   "cell_type": "code",
   "execution_count": 142,
   "id": "e2a57cbb",
   "metadata": {},
   "outputs": [
    {
     "data": {
      "text/plain": [
       "torch.Size([64, 3, 50, 50])"
      ]
     },
     "execution_count": 142,
     "metadata": {},
     "output_type": "execute_result"
    }
   ],
   "source": [
    "test_loader_batch = next(iter(test_loader))\n",
    "images, labels = test_loader_batch\n",
    "images.shape"
   ]
  },
  {
   "cell_type": "code",
   "execution_count": 167,
   "id": "6c41e8b6",
   "metadata": {},
   "outputs": [],
   "source": [
    "out = model(images[30:31]).detach()"
   ]
  },
  {
   "cell_type": "code",
   "execution_count": 168,
   "id": "5e1c4c09",
   "metadata": {},
   "outputs": [
    {
     "data": {
      "text/plain": [
       "tensor([17])"
      ]
     },
     "execution_count": 168,
     "metadata": {},
     "output_type": "execute_result"
    }
   ],
   "source": [
    "_, preds = torch.max(out, 1)\n",
    "preds"
   ]
  },
  {
   "cell_type": "code",
   "execution_count": 169,
   "id": "358017b8",
   "metadata": {},
   "outputs": [
    {
     "name": "stderr",
     "output_type": "stream",
     "text": [
      "Clipping input data to the valid range for imshow with RGB data ([0..1] for floats or [0..255] for integers).\n"
     ]
    },
    {
     "data": {
      "text/plain": [
       "<matplotlib.image.AxesImage at 0x21ca30abbe0>"
      ]
     },
     "execution_count": 169,
     "metadata": {},
     "output_type": "execute_result"
    },
    {
     "data": {
      "image/png": "[encoded data removed]",
      "text/plain": [
       "<Figure size 432x288 with 1 Axes>"
      ]
     },
     "metadata": {
      "needs_background": "light"
     },
     "output_type": "display_data"
    }
   ],
   "source": [
    "plt.imshow(images[30].permute(1, 2, 0), cmap=\"gray\")"
   ]
  },
  {
   "cell_type": "code",
   "execution_count": 170,
   "id": "2162fa89",
   "metadata": {},
   "outputs": [
    {
     "data": {
      "text/plain": [
       "'No entry'"
      ]
     },
     "execution_count": 170,
     "metadata": {},
     "output_type": "execute_result"
    }
   ],
   "source": [
    "class_names[preds.item()]"
   ]
  },
  {
   "cell_type": "code",
   "execution_count": null,
   "id": "f80196c6",
   "metadata": {},
   "outputs": [],
   "source": []
  }
 ],
 "metadata": {
  "kernelspec": {
   "display_name": "Python 3 (ipykernel)",
   "language": "python",
   "name": "python3"
  },
  "language_info": {
   "codemirror_mode": {
    "name": "ipython",
    "version": 3
   },
   "file_extension": ".py",
   "mimetype": "text/x-python",
   "name": "python",
   "nbconvert_exporter": "python",
   "pygments_lexer": "ipython3",
   "version": "3.8.8"
  }
 },
 "nbformat": 4,
 "nbformat_minor": 5
}
